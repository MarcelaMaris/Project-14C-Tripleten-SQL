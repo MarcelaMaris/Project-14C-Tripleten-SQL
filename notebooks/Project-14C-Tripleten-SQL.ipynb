{
 "cells": [
  {
   "cell_type": "markdown",
   "metadata": {},
   "source": [
    "# Part 3 - SQL"
   ]
  },
  {
   "cell_type": "markdown",
   "metadata": {},
   "source": [
    "## 1 - Study Objective"
   ]
  },
  {
   "cell_type": "markdown",
   "metadata": {},
   "source": [
    "The goal of this stage is to analyze data related to books, authors, publishers, ratings, and reviews, using SQL queries to extract insights that can support strategic decisions for the development of a new digital product for readers. Based on a competitor platform’s database, we will investigate publication patterns, user behavior regarding ratings, and the performance of authors and publishers. With this, we aim to better understand the reader profile and surface ideas that help guide the creation of a new app for book lovers."
   ]
  },
  {
   "cell_type": "markdown",
   "metadata": {},
   "source": [
    "## 2 - Database Connection"
   ]
  },
  {
   "cell_type": "code",
   "execution_count": null,
   "metadata": {},
   "outputs": [
    {
     "data": {
      "text/html": [
       "<div>\n",
       "<style scoped>\n",
       "    .dataframe tbody tr th:only-of-type {\n",
       "        vertical-align: middle;\n",
       "    }\n",
       "\n",
       "    .dataframe tbody tr th {\n",
       "        vertical-align: top;\n",
       "    }\n",
       "\n",
       "    .dataframe thead th {\n",
       "        text-align: right;\n",
       "    }\n",
       "</style>\n",
       "<table border=\"1\" class=\"dataframe\">\n",
       "  <thead>\n",
       "    <tr style=\"text-align: right;\">\n",
       "      <th></th>\n",
       "      <th>book_id</th>\n",
       "      <th>author_id</th>\n",
       "      <th>title</th>\n",
       "      <th>num_pages</th>\n",
       "      <th>publication_date</th>\n",
       "      <th>publisher_id</th>\n",
       "    </tr>\n",
       "  </thead>\n",
       "  <tbody>\n",
       "    <tr>\n",
       "      <th>0</th>\n",
       "      <td>1</td>\n",
       "      <td>546</td>\n",
       "      <td>'Salem's Lot</td>\n",
       "      <td>594</td>\n",
       "      <td>2005-11-01</td>\n",
       "      <td>93</td>\n",
       "    </tr>\n",
       "    <tr>\n",
       "      <th>1</th>\n",
       "      <td>2</td>\n",
       "      <td>465</td>\n",
       "      <td>1 000 Places to See Before You Die</td>\n",
       "      <td>992</td>\n",
       "      <td>2003-05-22</td>\n",
       "      <td>336</td>\n",
       "    </tr>\n",
       "    <tr>\n",
       "      <th>2</th>\n",
       "      <td>3</td>\n",
       "      <td>407</td>\n",
       "      <td>13 Little Blue Envelopes (Little Blue Envelope...</td>\n",
       "      <td>322</td>\n",
       "      <td>2010-12-21</td>\n",
       "      <td>135</td>\n",
       "    </tr>\n",
       "    <tr>\n",
       "      <th>3</th>\n",
       "      <td>4</td>\n",
       "      <td>82</td>\n",
       "      <td>1491: New Revelations of the Americas Before C...</td>\n",
       "      <td>541</td>\n",
       "      <td>2006-10-10</td>\n",
       "      <td>309</td>\n",
       "    </tr>\n",
       "    <tr>\n",
       "      <th>4</th>\n",
       "      <td>5</td>\n",
       "      <td>125</td>\n",
       "      <td>1776</td>\n",
       "      <td>386</td>\n",
       "      <td>2006-07-04</td>\n",
       "      <td>268</td>\n",
       "    </tr>\n",
       "  </tbody>\n",
       "</table>\n",
       "</div>"
      ],
      "text/plain": [
       "   book_id  author_id                                              title  \\\n",
       "0        1        546                                       'Salem's Lot   \n",
       "1        2        465                 1 000 Places to See Before You Die   \n",
       "2        3        407  13 Little Blue Envelopes (Little Blue Envelope...   \n",
       "3        4         82  1491: New Revelations of the Americas Before C...   \n",
       "4        5        125                                               1776   \n",
       "\n",
       "   num_pages publication_date  publisher_id  \n",
       "0        594       2005-11-01            93  \n",
       "1        992       2003-05-22           336  \n",
       "2        322       2010-12-21           135  \n",
       "3        541       2006-10-10           309  \n",
       "4        386       2006-07-04           268  "
      ]
     },
     "execution_count": 100,
     "metadata": {},
     "output_type": "execute_result"
    }
   ],
   "source": [
    "# Read CSV snapshots from the repo and build a temporary SQL \"engine\" in memory.\n",
    "# This lets you keep using pd.read_sql(..., con=engine) without a remote DB.\n",
    "\n",
    "from pathlib import Path\n",
    "import pandas as pd\n",
    "import sqlite3\n",
    "\n",
    "# 1) Locate data/samples no matter if the notebook is at repo root or in /notebooks\n",
    "ROOT = Path.cwd()\n",
    "for _ in range(5):\n",
    "    if (ROOT / 'data' / 'samples').exists():\n",
    "        break\n",
    "    ROOT = ROOT.parent\n",
    "DATA_DIR = ROOT / 'data' / 'samples'\n",
    "\n",
    "# 2) Load CSVs (what you already had)\n",
    "books      = pd.read_csv(DATA_DIR / 'books.csv')\n",
    "authors    = pd.read_csv(DATA_DIR / 'authors.csv')\n",
    "publishers = pd.read_csv(DATA_DIR / 'publishers.csv')\n",
    "ratings    = pd.read_csv(DATA_DIR / 'ratings.csv')\n",
    "reviews    = pd.read_csv(DATA_DIR / 'reviews.csv')\n",
    "\n",
    "# 3) Create an in-memory SQLite database and load the tables\n",
    "engine = sqlite3.connect(':memory:')\n",
    "books.to_sql('books', engine, index=False, if_exists='replace')\n",
    "authors.to_sql('authors', engine, index=False, if_exists='replace')\n",
    "publishers.to_sql('publishers', engine, index=False, if_exists='replace')\n",
    "ratings.to_sql('ratings', engine, index=False, if_exists='replace')\n",
    "reviews.to_sql('reviews', engine, index=False, if_exists='replace')\n",
    "\n",
    "# 4) (Optional) Sanity check\n",
    "pd.read_sql(\"SELECT * FROM books LIMIT 5\", con=engine)\n",
    "\n"
   ]
  },
  {
   "cell_type": "code",
   "execution_count": null,
   "metadata": {},
   "outputs": [
    {
     "data": {
      "text/html": [
       "<div>\n",
       "<style scoped>\n",
       "    .dataframe tbody tr th:only-of-type {\n",
       "        vertical-align: middle;\n",
       "    }\n",
       "\n",
       "    .dataframe tbody tr th {\n",
       "        vertical-align: top;\n",
       "    }\n",
       "\n",
       "    .dataframe thead th {\n",
       "        text-align: right;\n",
       "    }\n",
       "</style>\n",
       "<table border=\"1\" class=\"dataframe\">\n",
       "  <thead>\n",
       "    <tr style=\"text-align: right;\">\n",
       "      <th></th>\n",
       "      <th>total_books_after_2000</th>\n",
       "    </tr>\n",
       "  </thead>\n",
       "  <tbody>\n",
       "    <tr>\n",
       "      <th>0</th>\n",
       "      <td>819</td>\n",
       "    </tr>\n",
       "  </tbody>\n",
       "</table>\n",
       "</div>"
      ],
      "text/plain": [
       "   total_books_after_2000\n",
       "0                     819"
      ]
     },
     "execution_count": 101,
     "metadata": {},
     "output_type": "execute_result"
    }
   ],
   "source": [
    "query_4_1 = \"\"\"\n",
    "SELECT COUNT(*) AS total_books_after_2000\n",
    "FROM books\n",
    "WHERE date(publication_date) > date('2000-01-01');\n",
    "\"\"\"\n",
    "pd.read_sql(query_4_1, con=engine)\n",
    "\n"
   ]
  },
  {
   "cell_type": "markdown",
   "metadata": {},
   "source": [
    "## 3 – Initial Table Exploration"
   ]
  },
  {
   "cell_type": "markdown",
   "metadata": {},
   "source": [
    "### 3.1 – Preview the first 5 rows of each table"
   ]
  },
  {
   "cell_type": "code",
   "execution_count": null,
   "metadata": {},
   "outputs": [
    {
     "name": "stdout",
     "output_type": "stream",
     "text": [
      "books\n",
      "   book_id  author_id                                              title  \\\n",
      "0        1        546                                       'Salem's Lot   \n",
      "1        2        465                 1 000 Places to See Before You Die   \n",
      "2        3        407  13 Little Blue Envelopes (Little Blue Envelope...   \n",
      "3        4         82  1491: New Revelations of the Americas Before C...   \n",
      "4        5        125                                               1776   \n",
      "\n",
      "   num_pages publication_date  publisher_id  \n",
      "0        594       2005-11-01            93  \n",
      "1        992       2003-05-22           336  \n",
      "2        322       2010-12-21           135  \n",
      "3        541       2006-10-10           309  \n",
      "4        386       2006-07-04           268  \n",
      "\n",
      "authors\n",
      "   author_id                          author\n",
      "0          1                      A.S. Byatt\n",
      "1          2  Aesop/Laura Harris/Laura Gibbs\n",
      "2          3                 Agatha Christie\n",
      "3          4                   Alan Brennert\n",
      "4          5        Alan Moore/David   Lloyd\n",
      "\n",
      "publishers\n",
      "   publisher_id                          publisher\n",
      "0             1                                Ace\n",
      "1             2                           Ace Book\n",
      "2             3                          Ace Books\n",
      "3             4                      Ace Hardcover\n",
      "4             5  Addison Wesley Publishing Company\n",
      "\n",
      "ratings\n",
      "   rating_id  book_id       username  rating\n",
      "0          1        1     ryanfranco       4\n",
      "1          2        1  grantpatricia       2\n",
      "2          3        1   brandtandrea       5\n",
      "3          4        2       lorichen       3\n",
      "4          5        2    mariokeller       2\n",
      "\n",
      "reviews\n",
      "   review_id  book_id       username  \\\n",
      "0          1        1   brandtandrea   \n",
      "1          2        1     ryanfranco   \n",
      "2          3        2       lorichen   \n",
      "3          4        3  johnsonamanda   \n",
      "4          5        3    scotttamara   \n",
      "\n",
      "                                                text  \n",
      "0  Mention society tell send professor analysis. ...  \n",
      "1  Foot glass pretty audience hit themselves. Amo...  \n",
      "2  Listen treat keep worry. Miss husband tax but ...  \n",
      "3  Finally month interesting blue could nature cu...  \n",
      "4  Nation purpose heavy give wait song will. List...  \n"
     ]
    }
   ],
   "source": [
    "print('books');      print(books.head())\n",
    "print('\\nauthors');  print(authors.head())\n",
    "print('\\npublishers'); print(publishers.head())\n",
    "print('\\nratings');  print(ratings.head())\n",
    "print('\\nreviews');  print(reviews.head())\n",
    "\n"
   ]
  },
  {
   "cell_type": "markdown",
   "metadata": {},
   "source": [
    "## 3.2 - Check data types"
   ]
  },
  {
   "cell_type": "code",
   "execution_count": null,
   "metadata": {},
   "outputs": [
    {
     "name": "stdout",
     "output_type": "stream",
     "text": [
      "\n",
      "Table: books\n",
      "book_id              int64\n",
      "author_id            int64\n",
      "title               object\n",
      "num_pages            int64\n",
      "publication_date    object\n",
      "publisher_id         int64\n",
      "dtype: object\n",
      "book_id             0\n",
      "author_id           0\n",
      "title               0\n",
      "num_pages           0\n",
      "publication_date    0\n",
      "publisher_id        0\n",
      "dtype: int64\n",
      "\n",
      "Table: authors\n",
      "author_id     int64\n",
      "author       object\n",
      "dtype: object\n",
      "author_id    0\n",
      "author       0\n",
      "dtype: int64\n",
      "\n",
      "Table: publishers\n",
      "publisher_id     int64\n",
      "publisher       object\n",
      "dtype: object\n",
      "publisher_id    0\n",
      "publisher       0\n",
      "dtype: int64\n",
      "\n",
      "Table: ratings\n",
      "rating_id     int64\n",
      "book_id       int64\n",
      "username     object\n",
      "rating        int64\n",
      "dtype: object\n",
      "rating_id    0\n",
      "book_id      0\n",
      "username     0\n",
      "rating       0\n",
      "dtype: int64\n",
      "\n",
      "Table: reviews\n",
      "review_id     int64\n",
      "book_id       int64\n",
      "username     object\n",
      "text         object\n",
      "dtype: object\n",
      "review_id    0\n",
      "book_id      0\n",
      "username     0\n",
      "text         0\n",
      "dtype: int64\n"
     ]
    }
   ],
   "source": [
    "for name, df in {'books':books,'authors':authors,'publishers':publishers,'ratings':ratings,'reviews':reviews}.items():\n",
    "    print(f'\\nTable: {name}')\n",
    "    print(df.dtypes)\n",
    "    print(df.isnull().sum())\n"
   ]
  },
  {
   "cell_type": "markdown",
   "metadata": {},
   "source": [
    "## 3.3 - Count records per table"
   ]
  },
  {
   "cell_type": "code",
   "execution_count": null,
   "metadata": {},
   "outputs": [
    {
     "name": "stdout",
     "output_type": "stream",
     "text": [
      "books: 1000 rows\n",
      "authors: 636 rows\n",
      "publishers: 340 rows\n",
      "ratings: 6456 rows\n",
      "reviews: 2793 rows\n"
     ]
    }
   ],
   "source": [
    "for name, df in {'books':books,'authors':authors,'publishers':publishers,'ratings':ratings,'reviews':reviews}.items():\n",
    "    print(f'{name}: {len(df)} rows')\n"
   ]
  },
  {
   "cell_type": "markdown",
   "metadata": {},
   "source": [
    "### 3.4 - Data quality checks "
   ]
  },
  {
   "cell_type": "code",
   "execution_count": null,
   "metadata": {},
   "outputs": [
    {
     "name": "stdout",
     "output_type": "stream",
     "text": [
      "Orphan ratings (no matching book): 0\n"
     ]
    },
    {
     "data": {
      "text/plain": [
       "{'books.title': np.int64(0),\n",
       " 'books.publication_date': np.int64(0),\n",
       " 'ratings.rating': np.int64(0)}"
      ]
     },
     "execution_count": 105,
     "metadata": {},
     "output_type": "execute_result"
    }
   ],
   "source": [
    "# Primary key uniqueness\n",
    "assert books['book_id'].is_unique, \"book_id should be unique\"\n",
    "assert authors['author_id'].is_unique, \"author_id should be unique\"\n",
    "assert publishers['publisher_id'].is_unique, \"publisher_id should be unique\"\n",
    "\n",
    "# Orphan check: ratings referencing non-existent books\n",
    "orphans = ratings[~ratings['book_id'].isin(books['book_id'])]\n",
    "print(f\"Orphan ratings (no matching book): {len(orphans)}\")\n",
    "\n",
    "# Basic null checks on key columns\n",
    "key_nulls = {\n",
    "    'books.title': books['title'].isnull().sum(),\n",
    "    'books.publication_date': books['publication_date'].isnull().sum(),\n",
    "    'ratings.rating': ratings['rating'].isnull().sum(),\n",
    "}\n",
    "key_nulls"
   ]
  },
  {
   "cell_type": "markdown",
   "metadata": {},
   "source": [
    "### 3.5 - Conclusion"
   ]
  },
  {
   "cell_type": "markdown",
   "metadata": {},
   "source": [
    "**What we did:** inspected the structure and integrity of the five tables, reviewing first rows, data types, nulls, and row counts.\n",
    "\n",
    "**What we can conclude:** the dataset is well structured (consistent columns, appropriate types, no critical nulls) and ready for analysis, allowing us to proceed to the SQL question set (documented below) without additional preprocessing."
   ]
  },
  {
   "cell_type": "markdown",
   "metadata": {},
   "source": [
    "## 4 – SQL Queries for Insight Extraction"
   ]
  },
  {
   "cell_type": "markdown",
   "metadata": {},
   "source": [
    "In this section, we document the SQL queries used to answer the key analytical questions. (In this portable version, results are reproduced using the exported CSVs, but the SQL logic is preserved for reference)."
   ]
  },
  {
   "cell_type": "markdown",
   "metadata": {},
   "source": [
    "### 4.1 – Number of books released after January 1, 2000"
   ]
  },
  {
   "cell_type": "code",
   "execution_count": null,
   "metadata": {},
   "outputs": [
    {
     "data": {
      "text/html": [
       "<div>\n",
       "<style scoped>\n",
       "    .dataframe tbody tr th:only-of-type {\n",
       "        vertical-align: middle;\n",
       "    }\n",
       "\n",
       "    .dataframe tbody tr th {\n",
       "        vertical-align: top;\n",
       "    }\n",
       "\n",
       "    .dataframe thead th {\n",
       "        text-align: right;\n",
       "    }\n",
       "</style>\n",
       "<table border=\"1\" class=\"dataframe\">\n",
       "  <thead>\n",
       "    <tr style=\"text-align: right;\">\n",
       "      <th></th>\n",
       "      <th>total_books_after_2000</th>\n",
       "    </tr>\n",
       "  </thead>\n",
       "  <tbody>\n",
       "    <tr>\n",
       "      <th>0</th>\n",
       "      <td>819</td>\n",
       "    </tr>\n",
       "  </tbody>\n",
       "</table>\n",
       "</div>"
      ],
      "text/plain": [
       "   total_books_after_2000\n",
       "0                     819"
      ]
     },
     "execution_count": 106,
     "metadata": {},
     "output_type": "execute_result"
    }
   ],
   "source": [
    "query_4_1 = \"\"\"\n",
    "SELECT COUNT(*) AS total_books_after_2000\n",
    "FROM books\n",
    "WHERE date(publication_date) > date('2000-01-01');\n",
    "\"\"\"\n",
    "pd.read_sql(query_4_1, con=engine)\n"
   ]
  },
  {
   "cell_type": "markdown",
   "metadata": {},
   "source": [
    "**What was done:**\n",
    "A SQL query was executed to count the total number of books published after 1 January 2000, using the books table and the publication_date column as the filtering criterion.\n",
    "\n",
    "**What we can conclude:**\n",
    "The database contains **819 books** released after January 1, 2000, which represents approximately 82% of all available books. This indicates that the collection analyzed is predominantly composed of recent publications, making it suitable for assessing contemporary reading trends—a positive point for planning a new app focused on up-to-date editorial releases and current reader preferences."
   ]
  },
  {
   "cell_type": "markdown",
   "metadata": {},
   "source": [
    "### 4.2 – Number of ratings and average rating per book"
   ]
  },
  {
   "cell_type": "code",
   "execution_count": null,
   "metadata": {},
   "outputs": [
    {
     "name": "stdout",
     "output_type": "stream",
     "text": [
      "   book_id                                              title  total_ratings  \\\n",
      "0      948                            Twilight (Twilight  #1)            160   \n",
      "1      750                The Hobbit  or There and Back Again             88   \n",
      "2      673                             The Catcher in the Rye             86   \n",
      "3       75               Angels & Demons (Robert Langdon  #1)             84   \n",
      "4      302  Harry Potter and the Prisoner of Azkaban (Harr...             82   \n",
      "5      299  Harry Potter and the Chamber of Secrets (Harry...             80   \n",
      "6      301  Harry Potter and the Order of the Phoenix (Har...             75   \n",
      "7       79                                        Animal Farm             74   \n",
      "8      722  The Fellowship of the Ring (The Lord of the Ri...             74   \n",
      "9      300  Harry Potter and the Half-Blood Prince (Harry ...             73   \n",
      "\n",
      "   avg_rating  \n",
      "0        3.66  \n",
      "1        4.13  \n",
      "2        3.83  \n",
      "3        3.68  \n",
      "4        4.41  \n",
      "5        4.29  \n",
      "6        4.19  \n",
      "7        3.73  \n",
      "8        4.39  \n",
      "9        4.25  \n"
     ]
    }
   ],
   "source": [
    "query_4_2 = '''\n",
    "SELECT \n",
    "    books.book_id,\n",
    "    books.title,\n",
    "    COUNT(ratings.rating_id) AS total_ratings,\n",
    "    ROUND(AVG(ratings.rating), 2) AS avg_rating\n",
    "FROM books\n",
    "LEFT JOIN ratings ON books.book_id = ratings.book_id\n",
    "GROUP BY books.book_id, books.title\n",
    "ORDER BY total_ratings DESC\n",
    "LIMIT 10\n",
    "'''\n",
    "ratings_summary = pd.read_sql(query_4_2, con=engine)\n",
    "print(ratings_summary)\n"
   ]
  },
  {
   "cell_type": "markdown",
   "metadata": {},
   "source": [
    "**What was done:**\n",
    "A JOIN between the books and ratings tables was performed to compute, for each book, the total number of ratings (num_ratings) and the average rating (avg_rating). Results were ordered from the most to the least rated, limited to the top 10.\n",
    "\n",
    "**What we can conclude:**\n",
    "Twilight (Twilight #1) leads in number of ratings with 160 entries but has a modest average of 3.66, suggesting high engagement but polarized opinions. In contrast, titles such as Harry Potter and the Prisoner of Azkaban and The Fellowship of the Ring show not only high rating volumes but also average scores above 4.3, indicating strong reader approval. These data help identify works with high recommendation potential by combining popularity with favorable ratings."
   ]
  },
  {
   "cell_type": "markdown",
   "metadata": {},
   "source": [
    "### 4.3 - Publisher with the most books over 50 pages"
   ]
  },
  {
   "cell_type": "code",
   "execution_count": null,
   "metadata": {},
   "outputs": [
    {
     "name": "stdout",
     "output_type": "stream",
     "text": [
      "       publisher  num_books\n",
      "0  Penguin Books         42\n"
     ]
    }
   ],
   "source": [
    "query_4_3 = '''\n",
    "SELECT p.publisher, COUNT(b.book_id) AS num_books\n",
    "FROM books b\n",
    "JOIN publishers p ON b.publisher_id = p.publisher_id\n",
    "WHERE b.num_pages > 50\n",
    "GROUP BY p.publisher\n",
    "ORDER BY num_books DESC\n",
    "LIMIT 1\n",
    "'''\n",
    "result_4_3 = pd.read_sql(query_4_3, con=engine)\n",
    "print(result_4_3)"
   ]
  },
  {
   "cell_type": "markdown",
   "metadata": {},
   "source": [
    "**What was done:**\n",
    "We ran a JOIN between the books and publishers tables, filtered books with more than 50 pages, grouped by publisher, and counted how many books each one published. Finally, we sorted in descending order and selected the publisher with the highest number of publications.\n",
    "\n",
    "**What we can conclude:**\n",
    "Penguin Books is the publisher that released the most books with more than 50 pages, totaling 42 titles. This suggests a strong presence in the catalog of more substantial works and positions it as a heavyweight in the literary publishing segment."
   ]
  },
  {
   "cell_type": "markdown",
   "metadata": {},
   "source": [
    "### 4.4 – Author with the highest average rating (min. 50 ratings per book)"
   ]
  },
  {
   "cell_type": "code",
   "execution_count": null,
   "metadata": {},
   "outputs": [
    {
     "name": "stdout",
     "output_type": "stream",
     "text": [
      "                       author  author_avg_rating\n",
      "0  J.K. Rowling/Mary GrandPré               4.28\n"
     ]
    }
   ],
   "source": [
    "query_4_4 = '''\n",
    "SELECT \n",
    "    a.author,\n",
    "    ROUND(AVG(avg_rating), 2) AS author_avg_rating\n",
    "FROM (\n",
    "    SELECT \n",
    "        b.author_id,\n",
    "        AVG(r.rating) AS avg_rating\n",
    "    FROM books b\n",
    "    JOIN ratings r ON b.book_id = r.book_id\n",
    "    GROUP BY b.book_id, b.author_id\n",
    "    HAVING COUNT(r.rating_id) >= 50\n",
    ") AS sub\n",
    "JOIN authors a ON sub.author_id = a.author_id\n",
    "GROUP BY a.author\n",
    "ORDER BY author_avg_rating DESC\n",
    "LIMIT 1\n",
    "'''\n",
    "result_4_4 = pd.read_sql(query_4_4, con=engine)\n",
    "print(result_4_4)\n",
    "\n"
   ]
  },
  {
   "cell_type": "markdown",
   "metadata": {},
   "source": [
    "**What was done:**\n",
    "First, we computed the average rating per book and author, considering only books with at least 50 ratings. Then, using a subquery, we calculated the overall mean rating per author, sorted by the highest final average, and returned the top-performing author.\n",
    "\n",
    "**What we can conclude:**\n",
    "The author with the highest average rating among books that received at least 50 ratings is J.K. Rowling/Mary GrandPré, with an average of 4.28. This reflects high popularity and strong critical reception among readers. For a future reading app, such authors are good candidates for appearing in recommendations or promotions."
   ]
  },
  {
   "cell_type": "markdown",
   "metadata": {},
   "source": [
    "### 4.5 - Average number of reviews among users who rated > 50 books"
   ]
  },
  {
   "cell_type": "code",
   "execution_count": null,
   "metadata": {},
   "outputs": [
    {
     "name": "stdout",
     "output_type": "stream",
     "text": [
      "   avg_reviews_per_user\n",
      "0                 24.33\n"
     ]
    }
   ],
   "source": [
    "query_4_5 = '''\n",
    "SELECT \n",
    "    ROUND(AVG(review_count), 2) AS avg_reviews_per_user\n",
    "FROM (\n",
    "    SELECT \n",
    "        COUNT(*) AS review_count\n",
    "    FROM \n",
    "        reviews\n",
    "    WHERE \n",
    "        username IN (\n",
    "            SELECT \n",
    "                username\n",
    "            FROM \n",
    "                ratings\n",
    "            GROUP BY \n",
    "                username\n",
    "            HAVING \n",
    "                COUNT(rating_id) > 50\n",
    "        )\n",
    "    GROUP BY \n",
    "        username\n",
    ") AS review_counts\n",
    "'''\n",
    "\n",
    "result_4_5 = pd.read_sql(query_4_5, con=engine)\n",
    "print(result_4_5)\n"
   ]
  },
  {
   "cell_type": "markdown",
   "metadata": {},
   "source": [
    "**What was done:**\n",
    "We analyzed the behavior of the platform’s most engaged users, focusing on how many written reviews they typically produce. We first filtered users who rated more than 50 books in the ratings table. Then we identified how many text reviews those same users posted in the reviews table. Finally, we computed the average number of reviews per user within this group using a subquery.\n",
    "\n",
    "**What we can conclude:**\n",
    "Users who rated more than 50 books wrote, on average, 24.33 reviews. This shows that although many users frequently provide numeric ratings, not all engage as actively in producing textual reviews. Even so, this group represents a valuable audience—active readers who also contribute more elaborate opinions—which can be leveraged through strategies that encourage review creation and increase the platform’s social value."
   ]
  },
  {
   "cell_type": "markdown",
   "metadata": {},
   "source": [
    "### 4.6 - Books published per year"
   ]
  },
  {
   "cell_type": "code",
   "execution_count": null,
   "metadata": {},
   "outputs": [
    {
     "name": "stdout",
     "output_type": "stream",
     "text": [
      "Requirement already satisfied: matplotlib in c:\\users\\marce\\anaconda3\\envs\\tripleten-sql\\lib\\site-packages (3.10.6)\n",
      "Requirement already satisfied: contourpy>=1.0.1 in c:\\users\\marce\\anaconda3\\envs\\tripleten-sql\\lib\\site-packages (from matplotlib) (1.3.2)\n",
      "Requirement already satisfied: cycler>=0.10 in c:\\users\\marce\\anaconda3\\envs\\tripleten-sql\\lib\\site-packages (from matplotlib) (0.12.1)\n",
      "Requirement already satisfied: fonttools>=4.22.0 in c:\\users\\marce\\anaconda3\\envs\\tripleten-sql\\lib\\site-packages (from matplotlib) (4.60.1)\n",
      "Requirement already satisfied: kiwisolver>=1.3.1 in c:\\users\\marce\\anaconda3\\envs\\tripleten-sql\\lib\\site-packages (from matplotlib) (1.4.9)\n",
      "Requirement already satisfied: numpy>=1.23 in c:\\users\\marce\\anaconda3\\envs\\tripleten-sql\\lib\\site-packages (from matplotlib) (2.2.6)\n",
      "Requirement already satisfied: packaging>=20.0 in c:\\users\\marce\\anaconda3\\envs\\tripleten-sql\\lib\\site-packages (from matplotlib) (25.0)\n",
      "Requirement already satisfied: pillow>=8 in c:\\users\\marce\\anaconda3\\envs\\tripleten-sql\\lib\\site-packages (from matplotlib) (11.3.0)\n",
      "Requirement already satisfied: pyparsing>=2.3.1 in c:\\users\\marce\\anaconda3\\envs\\tripleten-sql\\lib\\site-packages (from matplotlib) (3.2.5)\n",
      "Requirement already satisfied: python-dateutil>=2.7 in c:\\users\\marce\\anaconda3\\envs\\tripleten-sql\\lib\\site-packages (from matplotlib) (2.9.0.post0)\n",
      "Requirement already satisfied: six>=1.5 in c:\\users\\marce\\anaconda3\\envs\\tripleten-sql\\lib\\site-packages (from python-dateutil>=2.7->matplotlib) (1.17.0)\n",
      "Note: you may need to restart the kernel to use updated packages.\n",
      "matplotlib OK\n"
     ]
    }
   ],
   "source": [
    "# install into the current Jupyter kernel\n",
    "%pip install matplotlib\n",
    "\n",
    "import matplotlib.pyplot as plt\n",
    "print(\"matplotlib OK\")\n"
   ]
  },
  {
   "cell_type": "code",
   "execution_count": null,
   "metadata": {},
   "outputs": [
    {
     "data": {
      "text/html": [
       "<div>\n",
       "<style scoped>\n",
       "    .dataframe tbody tr th:only-of-type {\n",
       "        vertical-align: middle;\n",
       "    }\n",
       "\n",
       "    .dataframe tbody tr th {\n",
       "        vertical-align: top;\n",
       "    }\n",
       "\n",
       "    .dataframe thead th {\n",
       "        text-align: right;\n",
       "    }\n",
       "</style>\n",
       "<table border=\"1\" class=\"dataframe\">\n",
       "  <thead>\n",
       "    <tr style=\"text-align: right;\">\n",
       "      <th></th>\n",
       "      <th>year</th>\n",
       "      <th>books_published</th>\n",
       "    </tr>\n",
       "  </thead>\n",
       "  <tbody>\n",
       "    <tr>\n",
       "      <th>0</th>\n",
       "      <td>1952</td>\n",
       "      <td>1</td>\n",
       "    </tr>\n",
       "    <tr>\n",
       "      <th>1</th>\n",
       "      <td>1977</td>\n",
       "      <td>1</td>\n",
       "    </tr>\n",
       "    <tr>\n",
       "      <th>2</th>\n",
       "      <td>1980</td>\n",
       "      <td>2</td>\n",
       "    </tr>\n",
       "    <tr>\n",
       "      <th>3</th>\n",
       "      <td>1982</td>\n",
       "      <td>5</td>\n",
       "    </tr>\n",
       "    <tr>\n",
       "      <th>4</th>\n",
       "      <td>1983</td>\n",
       "      <td>1</td>\n",
       "    </tr>\n",
       "  </tbody>\n",
       "</table>\n",
       "</div>"
      ],
      "text/plain": [
       "   year  books_published\n",
       "0  1952                1\n",
       "1  1977                1\n",
       "2  1980                2\n",
       "3  1982                5\n",
       "4  1983                1"
      ]
     },
     "execution_count": 112,
     "metadata": {},
     "output_type": "execute_result"
    }
   ],
   "source": [
    "query_years = \"\"\"\n",
    "SELECT strftime('%Y', publication_date) AS year,\n",
    "       COUNT(*) AS books_published\n",
    "FROM books\n",
    "WHERE publication_date IS NOT NULL\n",
    "GROUP BY year\n",
    "ORDER BY year;\n",
    "\"\"\"\n",
    "books_per_year = pd.read_sql(query_years, con=engine)\n",
    "books_per_year.head()\n"
   ]
  },
  {
   "cell_type": "code",
   "execution_count": null,
   "metadata": {},
   "outputs": [
    {
     "data": {
      "image/png": "[encoded data removed]",
      "text/plain": [
       "<Figure size 800x400 with 1 Axes>"
      ]
     },
     "metadata": {},
     "output_type": "display_data"
    }
   ],
   "source": [
    "import matplotlib.pyplot as plt\n",
    "\n",
    "plt.figure(figsize=(8,4))\n",
    "plt.plot(books_per_year['year'], books_per_year['books_published'], marker='o')\n",
    "plt.title('Books Published per Year')\n",
    "plt.xlabel('Year')\n",
    "plt.ylabel('Count')\n",
    "plt.xticks(rotation=45)\n",
    "plt.tight_layout()\n",
    "plt.show()\n"
   ]
  },
  {
   "cell_type": "markdown",
   "metadata": {},
   "source": [
    "**What was done:** We aggregated publication volume by year to highlight catalogue recency.  \n",
    "**What we can conclude:** Publication volume increases notably post-2000, reinforcing that the dataset skews towards contemporary titles.\n"
   ]
  },
  {
   "cell_type": "markdown",
   "metadata": {},
   "source": [
    "### 4.7 - Distribution of user ratings"
   ]
  },
  {
   "cell_type": "code",
   "execution_count": null,
   "metadata": {},
   "outputs": [
    {
     "data": {
      "text/html": [
       "<div>\n",
       "<style scoped>\n",
       "    .dataframe tbody tr th:only-of-type {\n",
       "        vertical-align: middle;\n",
       "    }\n",
       "\n",
       "    .dataframe tbody tr th {\n",
       "        vertical-align: top;\n",
       "    }\n",
       "\n",
       "    .dataframe thead th {\n",
       "        text-align: right;\n",
       "    }\n",
       "</style>\n",
       "<table border=\"1\" class=\"dataframe\">\n",
       "  <thead>\n",
       "    <tr style=\"text-align: right;\">\n",
       "      <th></th>\n",
       "      <th>rating</th>\n",
       "      <th>n</th>\n",
       "    </tr>\n",
       "  </thead>\n",
       "  <tbody>\n",
       "    <tr>\n",
       "      <th>0</th>\n",
       "      <td>1</td>\n",
       "      <td>53</td>\n",
       "    </tr>\n",
       "    <tr>\n",
       "      <th>1</th>\n",
       "      <td>2</td>\n",
       "      <td>431</td>\n",
       "    </tr>\n",
       "    <tr>\n",
       "      <th>2</th>\n",
       "      <td>3</td>\n",
       "      <td>1509</td>\n",
       "    </tr>\n",
       "    <tr>\n",
       "      <th>3</th>\n",
       "      <td>4</td>\n",
       "      <td>2396</td>\n",
       "    </tr>\n",
       "    <tr>\n",
       "      <th>4</th>\n",
       "      <td>5</td>\n",
       "      <td>2067</td>\n",
       "    </tr>\n",
       "  </tbody>\n",
       "</table>\n",
       "</div>"
      ],
      "text/plain": [
       "   rating     n\n",
       "0       1    53\n",
       "1       2   431\n",
       "2       3  1509\n",
       "3       4  2396\n",
       "4       5  2067"
      ]
     },
     "execution_count": 114,
     "metadata": {},
     "output_type": "execute_result"
    }
   ],
   "source": [
    "query_rating_dist = \"\"\"\n",
    "SELECT rating, COUNT(*) AS n\n",
    "FROM ratings\n",
    "GROUP BY rating\n",
    "ORDER BY rating;\n",
    "\"\"\"\n",
    "rating_dist = pd.read_sql(query_rating_dist, con=engine)\n",
    "rating_dist\n"
   ]
  },
  {
   "cell_type": "code",
   "execution_count": null,
   "metadata": {},
   "outputs": [
    {
     "data": {
      "image/png": "[encoded data removed]",
      "text/plain": [
       "<Figure size 600x300 with 1 Axes>"
      ]
     },
     "metadata": {},
     "output_type": "display_data"
    }
   ],
   "source": [
    "plt.figure(figsize=(6,3))\n",
    "plt.bar(rating_dist['rating'], rating_dist['n'])\n",
    "plt.title('Distribution of User Ratings')\n",
    "plt.xlabel('Rating')\n",
    "plt.ylabel('Count')\n",
    "plt.tight_layout()\n",
    "plt.show()\n"
   ]
  },
  {
   "cell_type": "markdown",
   "metadata": {},
   "source": [
    "**What was done:** We profiled the overall distribution of user ratings.  \n",
    "**What we can conclude:** Ratings cluster around 4–5 with a lighter tail below 3, indicating generally positive user sentiment.\n"
   ]
  },
  {
   "cell_type": "markdown",
   "metadata": {},
   "source": [
    "### 4.8 — Top authors by average rating (with adaptive threshold & horizontal bar)"
   ]
  },
  {
   "cell_type": "code",
   "execution_count": null,
   "metadata": {},
   "outputs": [
    {
     "data": {
      "image/png": "[encoded data removed]",
      "text/plain": [
       "<Figure size 800x400 with 1 Axes>"
      ]
     },
     "metadata": {},
     "output_type": "display_data"
    },
    {
     "data": {
      "text/html": [
       "<div>\n",
       "<style scoped>\n",
       "    .dataframe tbody tr th:only-of-type {\n",
       "        vertical-align: middle;\n",
       "    }\n",
       "\n",
       "    .dataframe tbody tr th {\n",
       "        vertical-align: top;\n",
       "    }\n",
       "\n",
       "    .dataframe thead th {\n",
       "        text-align: right;\n",
       "    }\n",
       "</style>\n",
       "<table border=\"1\" class=\"dataframe\">\n",
       "  <thead>\n",
       "    <tr style=\"text-align: right;\">\n",
       "      <th></th>\n",
       "      <th>author</th>\n",
       "      <th>n_ratings</th>\n",
       "      <th>avg_rating</th>\n",
       "    </tr>\n",
       "  </thead>\n",
       "  <tbody>\n",
       "    <tr>\n",
       "      <th>0</th>\n",
       "      <td>J.K. Rowling/Mary GrandPré</td>\n",
       "      <td>312</td>\n",
       "      <td>4.29</td>\n",
       "    </tr>\n",
       "    <tr>\n",
       "      <th>1</th>\n",
       "      <td>J.R.R. Tolkien</td>\n",
       "      <td>166</td>\n",
       "      <td>4.24</td>\n",
       "    </tr>\n",
       "    <tr>\n",
       "      <th>2</th>\n",
       "      <td>Stephenie Meyer</td>\n",
       "      <td>160</td>\n",
       "      <td>3.66</td>\n",
       "    </tr>\n",
       "  </tbody>\n",
       "</table>\n",
       "</div>"
      ],
      "text/plain": [
       "                       author  n_ratings  avg_rating\n",
       "0  J.K. Rowling/Mary GrandPré        312        4.29\n",
       "1              J.R.R. Tolkien        166        4.24\n",
       "2             Stephenie Meyer        160        3.66"
      ]
     },
     "execution_count": 116,
     "metadata": {},
     "output_type": "execute_result"
    }
   ],
   "source": [
    "from textwrap import shorten\n",
    "import matplotlib.pyplot as plt\n",
    "\n",
    "# Try progressively lower thresholds until we get enough authors\n",
    "for THRESH in [200, 150, 100, 50]:\n",
    "    query_top_authors = f\"\"\"\n",
    "    SELECT a.author,\n",
    "           COUNT(r.rating_id)      AS n_ratings,\n",
    "           ROUND(AVG(r.rating), 2) AS avg_rating\n",
    "    FROM ratings r\n",
    "    JOIN books b   ON r.book_id = b.book_id\n",
    "    JOIN authors a ON b.author_id = a.author_id\n",
    "    GROUP BY a.author\n",
    "    HAVING COUNT(r.rating_id) >= {THRESH}\n",
    "    ORDER BY avg_rating DESC, n_ratings DESC\n",
    "    LIMIT 10;\n",
    "    \"\"\"\n",
    "    top_authors = pd.read_sql(query_top_authors, con=engine)\n",
    "    if len(top_authors) >= 3:\n",
    "        break  # good enough to plot\n",
    "\n",
    "# Fallback: if still too few, pick by volume only\n",
    "title_suffix = f\"(≥{THRESH} ratings)\"\n",
    "if top_authors.empty:\n",
    "    query_alt = \"\"\"\n",
    "    SELECT a.author,\n",
    "           COUNT(r.rating_id)      AS n_ratings,\n",
    "           ROUND(AVG(r.rating), 2) AS avg_rating\n",
    "    FROM ratings r\n",
    "    JOIN books b   ON r.book_id = b.book_id\n",
    "    JOIN authors a ON b.author_id = a.author_id\n",
    "    GROUP BY a.author\n",
    "    ORDER BY n_ratings DESC\n",
    "    LIMIT 10;\n",
    "    \"\"\"\n",
    "    top_authors = pd.read_sql(query_alt, con=engine)\n",
    "    title_suffix = \"(top 10 by volume)\"\n",
    "\n",
    "# Truncate very long author names for display\n",
    "labels = [shorten(str(x), width=32, placeholder='…') for x in top_authors['author']]\n",
    "\n",
    "plt.figure(figsize=(8, 4))\n",
    "plt.barh(labels, top_authors['avg_rating'])\n",
    "plt.xlabel('Average rating')\n",
    "plt.title(f'Top Authors by Average Rating {title_suffix}')\n",
    "plt.gca().invert_yaxis()  # highest at the top\n",
    "# Annotate values\n",
    "for i, v in enumerate(top_authors['avg_rating']):\n",
    "    plt.text(v + 0.02, i, f\"{v:.2f}\", va='center')\n",
    "plt.tight_layout()\n",
    "plt.show()\n",
    "\n",
    "top_authors  # also show the table under the chart\n"
   ]
  },
  {
   "cell_type": "markdown",
   "metadata": {},
   "source": []
  },
  {
   "cell_type": "markdown",
   "metadata": {},
   "source": [
    "**What was done:**  \n",
    "We ranked authors by average rating using an adaptive minimum-volume threshold (≥200 → ≥150 → ≥100 → ≥50) to ensure a meaningful sample. For readability with long names, we used a horizontal bar chart with truncated labels and value annotations.\n",
    "\n",
    "**What we can conclude:**  \n",
    "Among authors with substantial review volume (≥150 ratings), average scores are consistently high for **J.K. Rowling/Mary GrandPré (4.29)** and **J.R.R. Tolkien (4.24)**, indicating strong and enduring reader approval. **Stephenie Meyer (3.66)** shows a notably lower mean despite high engagement, suggesting a more polarised reception. The pattern remains directionally stable when varying the volume threshold, supporting the robustness of this ranking."
   ]
  },
  {
   "cell_type": "markdown",
   "metadata": {},
   "source": [
    "### 4.9 — Publishers: volume vs. quality (>50 pages)"
   ]
  },
  {
   "cell_type": "code",
   "execution_count": null,
   "metadata": {},
   "outputs": [
    {
     "data": {
      "image/png": "[encoded data removed]",
      "text/plain": [
       "<Figure size 900x500 with 1 Axes>"
      ]
     },
     "metadata": {},
     "output_type": "display_data"
    },
    {
     "data": {
      "text/html": [
       "<div>\n",
       "<style scoped>\n",
       "    .dataframe tbody tr th:only-of-type {\n",
       "        vertical-align: middle;\n",
       "    }\n",
       "\n",
       "    .dataframe tbody tr th {\n",
       "        vertical-align: top;\n",
       "    }\n",
       "\n",
       "    .dataframe thead th {\n",
       "        text-align: right;\n",
       "    }\n",
       "</style>\n",
       "<table border=\"1\" class=\"dataframe\">\n",
       "  <thead>\n",
       "    <tr style=\"text-align: right;\">\n",
       "      <th></th>\n",
       "      <th>publisher</th>\n",
       "      <th>n_books</th>\n",
       "      <th>n_ratings</th>\n",
       "      <th>avg_rating</th>\n",
       "    </tr>\n",
       "  </thead>\n",
       "  <tbody>\n",
       "    <tr>\n",
       "      <th>0</th>\n",
       "      <td>Harper Voyager</td>\n",
       "      <td>5</td>\n",
       "      <td>11</td>\n",
       "      <td>4.45</td>\n",
       "    </tr>\n",
       "    <tr>\n",
       "      <th>1</th>\n",
       "      <td>Vertigo</td>\n",
       "      <td>10</td>\n",
       "      <td>35</td>\n",
       "      <td>4.37</td>\n",
       "    </tr>\n",
       "    <tr>\n",
       "      <th>2</th>\n",
       "      <td>HarperCollins Publishers</td>\n",
       "      <td>5</td>\n",
       "      <td>22</td>\n",
       "      <td>4.32</td>\n",
       "    </tr>\n",
       "    <tr>\n",
       "      <th>3</th>\n",
       "      <td>Harper Perennial Modern Classics</td>\n",
       "      <td>6</td>\n",
       "      <td>36</td>\n",
       "      <td>4.31</td>\n",
       "    </tr>\n",
       "    <tr>\n",
       "      <th>4</th>\n",
       "      <td>Random House</td>\n",
       "      <td>6</td>\n",
       "      <td>28</td>\n",
       "      <td>4.25</td>\n",
       "    </tr>\n",
       "    <tr>\n",
       "      <th>5</th>\n",
       "      <td>Black Dog &amp; Leventhal Publishers</td>\n",
       "      <td>6</td>\n",
       "      <td>18</td>\n",
       "      <td>4.22</td>\n",
       "    </tr>\n",
       "    <tr>\n",
       "      <th>6</th>\n",
       "      <td>HarperTorch</td>\n",
       "      <td>10</td>\n",
       "      <td>33</td>\n",
       "      <td>4.18</td>\n",
       "    </tr>\n",
       "    <tr>\n",
       "      <th>7</th>\n",
       "      <td>Oxford University Press</td>\n",
       "      <td>5</td>\n",
       "      <td>34</td>\n",
       "      <td>4.18</td>\n",
       "    </tr>\n",
       "    <tr>\n",
       "      <th>8</th>\n",
       "      <td>Square Fish</td>\n",
       "      <td>5</td>\n",
       "      <td>11</td>\n",
       "      <td>4.18</td>\n",
       "    </tr>\n",
       "    <tr>\n",
       "      <th>9</th>\n",
       "      <td>Simon Pulse</td>\n",
       "      <td>9</td>\n",
       "      <td>43</td>\n",
       "      <td>4.16</td>\n",
       "    </tr>\n",
       "    <tr>\n",
       "      <th>10</th>\n",
       "      <td>Warner Books</td>\n",
       "      <td>7</td>\n",
       "      <td>57</td>\n",
       "      <td>4.16</td>\n",
       "    </tr>\n",
       "    <tr>\n",
       "      <th>11</th>\n",
       "      <td>Puffin Books</td>\n",
       "      <td>7</td>\n",
       "      <td>55</td>\n",
       "      <td>4.13</td>\n",
       "    </tr>\n",
       "  </tbody>\n",
       "</table>\n",
       "</div>"
      ],
      "text/plain": [
       "                           publisher  n_books  n_ratings  avg_rating\n",
       "0                     Harper Voyager        5         11        4.45\n",
       "1                            Vertigo       10         35        4.37\n",
       "2           HarperCollins Publishers        5         22        4.32\n",
       "3   Harper Perennial Modern Classics        6         36        4.31\n",
       "4                       Random House        6         28        4.25\n",
       "5   Black Dog & Leventhal Publishers        6         18        4.22\n",
       "6                        HarperTorch       10         33        4.18\n",
       "7            Oxford University Press        5         34        4.18\n",
       "8                        Square Fish        5         11        4.18\n",
       "9                        Simon Pulse        9         43        4.16\n",
       "10                      Warner Books        7         57        4.16\n",
       "11                      Puffin Books        7         55        4.13"
      ]
     },
     "execution_count": 120,
     "metadata": {},
     "output_type": "execute_result"
    }
   ],
   "source": [
    "# 4.9 — Publishers: volume vs. quality (>50 pages), clean horizontal plot (fixed)\n",
    "\n",
    "from textwrap import shorten\n",
    "import matplotlib.pyplot as plt\n",
    "\n",
    "query_pub_stats = \"\"\"\n",
    "WITH pub_books AS (\n",
    "  SELECT b.book_id AS book_id, p.publisher AS publisher\n",
    "  FROM books b\n",
    "  JOIN publishers p ON b.publisher_id = p.publisher_id\n",
    "  WHERE b.num_pages > 50\n",
    ")\n",
    "SELECT\n",
    "  pb.publisher,\n",
    "  COUNT(DISTINCT pb.book_id)      AS n_books,\n",
    "  COUNT(r.rating_id)              AS n_ratings,\n",
    "  ROUND(AVG(r.rating), 2)         AS avg_rating\n",
    "FROM pub_books pb\n",
    "LEFT JOIN ratings r ON r.book_id = pb.book_id\n",
    "GROUP BY pb.publisher\n",
    "HAVING COUNT(DISTINCT pb.book_id) >= 5\n",
    "ORDER BY avg_rating DESC, n_books DESC\n",
    "LIMIT 12;\n",
    "\"\"\"\n",
    "pub_stats = pd.read_sql(query_pub_stats, con=engine)\n",
    "\n",
    "# Shorten long labels\n",
    "labels = [shorten(str(x), width=28, placeholder='…') for x in pub_stats['publisher']]\n",
    "\n",
    "plt.figure(figsize=(9, 5))\n",
    "plt.barh(labels, pub_stats['avg_rating'])\n",
    "plt.xlabel('Average rating')\n",
    "plt.title('Publishers (≥5 books >50 pages): Average Rating')\n",
    "plt.gca().invert_yaxis()  # top first\n",
    "\n",
    "# Annotate bars\n",
    "for i, v in enumerate(pub_stats['avg_rating']):\n",
    "    plt.text(v + 0.02, i, f\"{v:.2f}\", va='center')\n",
    "\n",
    "# Auto-zoom x-axis to highlight small differences\n",
    "if len(pub_stats):\n",
    "    xmin = max(3.0, pub_stats['avg_rating'].min() - 0.1)\n",
    "    xmax = min(5.0, pub_stats['avg_rating'].max() + 0.1)\n",
    "    if (xmax - xmin) < 0.6:  # ensure a sensible width\n",
    "        pad = (0.6 - (xmax - xmin)) / 2\n",
    "        xmin = max(0.0, xmin - pad)\n",
    "        xmax = min(5.0, xmax + pad)\n",
    "    plt.xlim(xmin, xmax)\n",
    "\n",
    "plt.tight_layout()\n",
    "plt.show()\n",
    "\n",
    "pub_stats  # table for reference\n",
    "\n",
    "\n"
   ]
  },
  {
   "cell_type": "markdown",
   "metadata": {},
   "source": [
    "**What was done:**  \n",
    "We compared publishers on substantial titles (>50 pages), keeping those with ≥5 distinct books. For each qualifying publisher, we aggregated all associated ratings to compute the average score, and ranked by average rating. To keep the chart readable with long labels and small differences, we used a horizontal bar chart with truncated labels, value annotations, and a narrowed x-axis.\n",
    "\n",
    "**What we can conclude:**  \n",
    "Average scores are tightly clustered (≈4.13–4.45), indicating broadly consistent quality among the leading publishers. **Harper Voyager (4.45)** tops the list, followed by **Vertigo (4.37)**, **HarperCollins Publishers (4.32)**, **Harper Perennial Modern Classics (4.31)** and **Random House (4.25)**. A mid-tier around **4.18** includes **HarperTorch**, **Oxford University Press** and **Square Fish**, while **Simon Pulse** and **Warner Books** post **4.16**, and **Puffin Books** remains solid at **4.13**. Notably, publishers with deeper catalogues (e.g., **Vertigo** and **HarperTorch**, each with 10 qualifying books) still maintain strong averages, suggesting no clear trade-off between volume and quality in this cohort.\n"
   ]
  },
  {
   "cell_type": "markdown",
   "metadata": {},
   "source": [
    "## 5 - Overall Conclusion"
   ]
  },
  {
   "cell_type": "markdown",
   "metadata": {},
   "source": [
    "In this third part of the project, we conducted a detailed exploration of a book-platform dataset using SQL to extract insights on publications, authors, publishers, ratings and user behaviour. Integrity checks (primary-key uniqueness and orphan detection) indicate the data are reliable for downstream analysis.\n",
    "\n",
    "The catalogue is contemporary: **819** books were published after **1 January 2000** (≈82%). Year-by-year counts show a clear increase in publication volume post-2000. The distribution of ratings is positively skewed, clustering around **4–5**, with a lighter tail below **3**, signalling generally favourable sentiment.\n",
    "\n",
    "At the title/author level, highly popular franchises (e.g., **Harry Potter**) combine strong volumes with high averages. Among authors with substantial review volume, **J.K. Rowling/Mary GrandPré (≈4.29)** and **J.R.R. Tolkien (≈4.24)** show consistently strong reception, whereas **Stephenie Meyer (≈3.66)** appears more polarised despite high engagement.\n",
    "\n",
    "At the publisher level (≥5 books >50 pages), average scores are tightly clustered (≈**4.13–4.45**). **Harper Voyager (4.45)** leads, followed by **Vertigo (4.37)**, **HarperCollins Publishers (4.32)**, **Harper Perennial Modern Classics (4.31)** and **Random House (4.25)**. Importantly, publishers with deeper catalogues (e.g., **Vertigo** and **HarperTorch**) maintain strong averages, suggesting no clear volume-quality trade-off within the top group.\n",
    "\n",
    "Finally, highly engaged raters (those who rated >50 books) write about **24** text reviews on average—valuable contributors who can be activated to enrich community content.\n",
    "\n",
    "**Product implications:** these findings support features such as **personalised recommendations**, **editorial highlights** (e.g., consistently high-scoring publishers/authors), and **lightweight incentives for review creation**, making the reading experience more interactive and engaging.\n"
   ]
  },
  {
   "cell_type": "markdown",
   "metadata": {},
   "source": []
  }
 ],
 "metadata": {
  "kernelspec": {
   "display_name": "tripleten-sql",
   "language": "python",
   "name": "python3"
  },
  "language_info": {
   "codemirror_mode": {
    "name": "ipython",
    "version": 3
   },
   "file_extension": ".py",
   "mimetype": "text/x-python",
   "name": "python",
   "nbconvert_exporter": "python",
   "pygments_lexer": "ipython3",
   "version": "3.10.18"
  }
 },
 "nbformat": 4,
 "nbformat_minor": 4
}
